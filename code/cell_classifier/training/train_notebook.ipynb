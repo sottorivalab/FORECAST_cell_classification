{
 "cells": [
  {
   "cell_type": "code",
   "execution_count": null,
   "metadata": {},
   "outputs": [],
   "source": [
    "%reload_ext autoreload\n",
    "%autoreload 2\n",
    "%matplotlib inline"
   ]
  },
  {
   "cell_type": "code",
   "execution_count": null,
   "metadata": {},
   "outputs": [],
   "source": [
    "## Load in the needed packages ##\n",
    "\n",
    "from fastai.imports import *\n",
    "from fastai.transforms import *\n",
    "from fastai.conv_learner import *\n",
    "from fastai.model import *\n",
    "from fastai.dataset import *\n",
    "from fastai.sgdr import *\n",
    "from fastai.plots import *\n",
    "from sklearn.metrics import confusion_matrix\n",
    "from torch.utils.data.sampler import SequentialSampler, RandomSampler, BatchSampler"
   ]
  },
  {
   "cell_type": "code",
   "execution_count": null,
   "metadata": {},
   "outputs": [],
   "source": [
    "## Set up parameters ##\n",
    "\n",
    "PATH = \"../../../training_data/classification_patches/\" # Path to training data\n",
    "sz=224 # Patch size\n",
    "\n",
    "batch_size=64 # Batch size\n",
    "drop_out=0.8 # Drop out percentage\n",
    "pretrained=True # Pretrain model using ImageNet?\n",
    "\n",
    "arch=dn201"
   ]
  },
  {
   "cell_type": "code",
   "execution_count": null,
   "metadata": {
    "scrolled": false
   },
   "outputs": [],
   "source": [
    "## Set up dataset and network ##\n",
    "\n",
    "data = ImageClassifierData.from_paths(PATH, tfms=tfms_from_model(arch, sz), bs=batch_size)\n",
    "learn = ConvLearner.pretrained(arch, data, ps=drop_out, precompute=True, pretrained=pretrained)"
   ]
  },
  {
   "cell_type": "code",
   "execution_count": null,
   "metadata": {},
   "outputs": [],
   "source": [
    "## Set learning rate ##\n",
    "\n",
    "short_lr = 0.01"
   ]
  },
  {
   "cell_type": "code",
   "execution_count": null,
   "metadata": {
    "scrolled": false
   },
   "outputs": [],
   "source": [
    "## Begin training on final layers only ##\n",
    "\n",
    "learn.freeze()\n",
    "learn.precompute = True # Use this setting before full model training\n",
    "\n",
    "learn.fit(short_lr, 5, cycle_len=1, cycle_mult=2, best_save_name='best_final_layers') # Train with adaptive learning rate"
   ]
  },
  {
   "cell_type": "code",
   "execution_count": null,
   "metadata": {},
   "outputs": [],
   "source": [
    "## Set learning rate ##\n",
    "\n",
    "long_lr=np.array([7e-4,7e-3,7e-2])"
   ]
  },
  {
   "cell_type": "code",
   "execution_count": null,
   "metadata": {
    "scrolled": true
   },
   "outputs": [],
   "source": [
    "## Begin training on full model ##\n",
    "\n",
    "learn.unfreeze()\n",
    "learn.precompute = False # Use this setting after full model training\n",
    "learn.fit(long_lr, 3, cycle_len=1, cycle_mult=2, best_save_name='best_full_model')"
   ]
  },
  {
   "cell_type": "code",
   "execution_count": null,
   "metadata": {
    "scrolled": true
   },
   "outputs": [],
   "source": [
    "## Plot current classification accuracy on validation dataset ##\n",
    "\n",
    "log_preds,y = learn.TTA()\n",
    "probs = np.mean(np.exp(log_preds),0)\n",
    "preds = np.argmax(probs, axis=1)\n",
    "\n",
    "cm = confusion_matrix(y, preds)\n",
    "plot_confusion_matrix(cm, data.classes)"
   ]
  },
  {
   "cell_type": "code",
   "execution_count": null,
   "metadata": {},
   "outputs": [],
   "source": [
    "## Save current model ##\n",
    "## Best model is already saved in training, but you can specifically save the current one here ##\n",
    "\n",
    "learn.unfreeze()\n",
    "torch.save(learn.model, PATH+'/models/finalModel.h5')"
   ]
  },
  {
   "cell_type": "code",
   "execution_count": null,
   "metadata": {},
   "outputs": [],
   "source": [
    "## Load a model ##\n",
    "## Run this after cell #5 ##\n",
    "\n",
    "model_name = 'finalModel.h5'\n",
    "model = torch.load(PATH+'/models/'+model_name).state_dict()\n",
    "learn.model.load_state_dict(model)"
   ]
  }
 ],
 "metadata": {
  "kernelspec": {
   "display_name": "Python 3 (ipykernel)",
   "language": "python",
   "name": "python3"
  },
  "language_info": {
   "codemirror_mode": {
    "name": "ipython",
    "version": 3
   },
   "file_extension": ".py",
   "mimetype": "text/x-python",
   "name": "python",
   "nbconvert_exporter": "python",
   "pygments_lexer": "ipython3",
   "version": "3.10.9"
  }
 },
 "nbformat": 4,
 "nbformat_minor": 2
}
